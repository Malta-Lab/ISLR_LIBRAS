{
 "cells": [
  {
   "cell_type": "code",
   "execution_count": 17,
   "metadata": {},
   "outputs": [],
   "source": [
    "\n",
    "import torch\n",
    "import torchvision\n",
    "torchvision.disable_beta_transforms_warning()\n",
    "from models import VideoModel\n",
    "from dataset import VideoDataset, TestDatasets\n",
    "from transforms import build_transforms\n",
    "from torchmetrics import Accuracy, F1Score, ConfusionMatrix, Precision, Recall\n",
    "from sklearn.metrics import f1_score, precision_score, recall_score, confusion_matrix, accuracy_score\n",
    "from tqdm import tqdm\n",
    "from utils import set_seed\n",
    "import numpy as np\n",
    "from typing import List\n",
    "import os\n",
    "from matplotlib import pyplot as plt\n",
    "import seaborn as sns\n",
    "import pandas as pd\n",
    "from dataclasses import dataclass\n",
    "\n",
    "os.environ['CUDA_VISIBLE_DEVICES'] = '0'\n",
    "\n",
    "device = torch.device(\"cuda\" if torch.cuda.is_available() else \"cpu\")\n",
    "set_seed(42)\n",
    "\n",
    "EXPS = {exp_name:f'lightning_logs/{exp_name}/version_0/checkpoints/best_model.ckpt' for exp_name in os.listdir('lightning_logs') if os.path.isdir(f'lightning_logs/{exp_name}')}\n",
    "\n",
    "def count_videos_by_class():\n",
    "    for root, _, files in os.walk('../MINDS_tensors'):\n",
    "        print(f'{root} has {len(files)} tensors')\n",
    "        \n",
    "def load_dataset(mode=\"val\", dir=\"../MINDS_tensors_all_frames\"):\n",
    "    if mode == \"val\":\n",
    "        return VideoDataset(\n",
    "            root_dir=dir,\n",
    "            extensions=[\"pt\"],\n",
    "            transform=build_transforms(\n",
    "                [\"normalize\"],\n",
    "                resize_dims=(224, 224),\n",
    "                sample_frames=16,\n",
    "                random_sample=False,\n",
    "            ),\n",
    "            split=\"test\",\n",
    "            with_path=True,\n",
    "        )\n",
    "    else:\n",
    "        return TestDatasets(\n",
    "            \"./dataset_intersections/common_labels.csv\",\n",
    "            transforms=build_transforms(\n",
    "                [\"normalize\"], resize_dims=(224, 224), random_sample=False\n",
    "            ),\n",
    "        )\n",
    "        \n",
    "def load_model(model_path):\n",
    "    model = VideoModel.load_from_checkpoint(\n",
    "        model_path\n",
    "    )\n",
    "    model.eval()\n",
    "    model = model.to(device)\n",
    "    return model\n",
    "\n",
    "@dataclass\n",
    "class LogTemplate():\n",
    "    exp_name: str\n",
    "    acc_32_frames: float\n",
    "    f1_32_frames: float\n",
    "    precision_32_frames: float\n",
    "    recall_32_frames: float\n",
    "    cm_32_frames: np.ndarray\n",
    "    errors_32_frames: List[str]\n",
    "    acc_all_frames: float\n",
    "    f1_all_frames: float\n",
    "    precision_all_frames: float\n",
    "    recall_all_frames: float\n",
    "    cm_all_frames: np.ndarray\n",
    "    errors_all_frames: List[str]\n",
    "    acc_test: float\n",
    "    f1_test: float\n",
    "    precision_test: float\n",
    "    recall_test: float\n",
    "    cm_test: np.ndarray\n",
    "    errors_test: List[str]\n",
    "    \n",
    "class Results():\n",
    "    def __init__(self):\n",
    "        self.wrong_paths = []\n",
    "        self.accuracy = Accuracy(task='multiclass', num_classes=20).to(device)\n",
    "        self.f1 = F1Score(task='multiclass', num_classes=20).to(device)\n",
    "        self.cm = ConfusionMatrix(task='multiclass', num_classes=20).to(device)\n",
    "        self.precision = Precision(task='multiclass', num_classes=20).to(device)\n",
    "        self.recall = Recall(task='multiclass', num_classes=20).to(device)\n",
    "        \n",
    "    def __call__(self, true, pred):\n",
    "        self.accuracy(pred, true)\n",
    "        self.f1(pred, true)\n",
    "        self.cm(pred, true)\n",
    "        self.precision(pred, true)\n",
    "        self.recall(pred, true)\n",
    "        \n",
    "    def add_to_wrong_paths(self, path):\n",
    "        self.wrong_paths.append(path)\n",
    "        \n",
    "    def get_metrics(self):\n",
    "        return self.accuracy.compute().item(), self.f1.compute().item(), self.precision.compute().item(), self.recall.compute().item(), self.cm.compute().cpu().numpy(), self.wrong_paths"
   ]
  },
  {
   "cell_type": "code",
   "execution_count": 5,
   "metadata": {},
   "outputs": [
    {
     "name": "stdout",
     "output_type": "stream",
     "text": [
      "Experiment: video_mae_kinetics_sample_from_32\n"
     ]
    },
    {
     "name": "stderr",
     "output_type": "stream",
     "text": [
      "Some weights of VideoMAEForVideoClassification were not initialized from the model checkpoint at MCG-NJU/videomae-base-finetuned-kinetics and are newly initialized because the shapes did not match:\n",
      "- classifier.bias: found shape torch.Size([400]) in the checkpoint and torch.Size([20]) in the model instantiated\n",
      "- classifier.weight: found shape torch.Size([400, 768]) in the checkpoint and torch.Size([20, 768]) in the model instantiated\n",
      "You should probably TRAIN this model on a down-stream task to be able to use it for predictions and inference.\n",
      "100%|██████████| 292/292 [00:42<00:00,  6.94it/s]\n",
      "100%|██████████| 292/292 [00:17<00:00, 16.89it/s]\n",
      "  0%|          | 0/72 [00:00<?, ?it/s]/home/parraga/miniconda3/envs/libras/lib/python3.10/site-packages/torchvision/io/video.py:161: UserWarning: The pts_unit 'pts' gives wrong results. Please use pts_unit 'sec'.\n",
      "  warnings.warn(\"The pts_unit 'pts' gives wrong results. Please use pts_unit 'sec'.\")\n",
      "100%|██████████| 72/72 [02:43<00:00,  2.27s/it]\n"
     ]
    }
   ],
   "source": [
    "# run every experiment for all the three datasets and get the values of the metrics\n",
    "all_results = []\n",
    "\n",
    "for k,v in EXPS.items():\n",
    "    print(f'Experiment: {k}')\n",
    "    model = load_model(v)\n",
    "    val_all_frames = load_dataset(\"val\", \"../MINDS_tensors_all_frames\")\n",
    "    val_32_frames = load_dataset(\"val\", \"../MINDS_tensors_32\")\n",
    "    test_dataset = load_dataset(\"test\")\n",
    "    \n",
    "    exp_results = []\n",
    "    \n",
    "    with torch.no_grad():\n",
    "        for dataset in [val_all_frames, val_32_frames]:\n",
    "            loader = torch.utils.data.DataLoader(\n",
    "                dataset,\n",
    "                batch_size=1,\n",
    "                shuffle=False,\n",
    "                num_workers=32,\n",
    "            )\n",
    "            \n",
    "            dataset_results = Results()\n",
    "            \n",
    "            for i, (video, label, path, _) in enumerate(tqdm(loader)):\n",
    "                video = video.to(device)\n",
    "                label = label.to(device)\n",
    "                output = model(video)\n",
    "                pred = torch.argmax(output.logits, dim=1)\n",
    "                dataset_results(pred, label)\n",
    "                if label != pred:\n",
    "                    dataset_results.add_to_wrong_paths(path)\n",
    "                \n",
    "            \n",
    "            exp_results.append(dataset_results.get_metrics())\n",
    "        \n",
    "        test_loader = torch.utils.data.DataLoader(\n",
    "            test_dataset,\n",
    "            batch_size=1,\n",
    "            shuffle=False,\n",
    "            num_workers=1,\n",
    "        )\n",
    "        \n",
    "        test_results = Results()\n",
    "        \n",
    "        for i, (video, label, origin, path) in enumerate(tqdm(test_loader)):\n",
    "            video = video.to(device)\n",
    "            output = model(video)\n",
    "            pred = torch.argmax(output.logits, dim=1)\n",
    "            label = label[0].split('_')[0]\n",
    "            label = label.replace('á', 'a').replace('ã', 'a').replace('é', 'e').replace('í', 'i').replace('ó', 'o').replace('ú', 'u').replace('ç', 'c')\n",
    "            label = val_32_frames.class_to_idx[label]\n",
    "            label = torch.tensor([label])\n",
    "            label = label.to(device)\n",
    "            test_results(pred, label)\n",
    "            if label != pred:\n",
    "                test_results.add_to_wrong_paths(path)\n",
    "        \n",
    "        exp_results.append(test_results.get_metrics())\n",
    "        \n",
    "        experiment = LogTemplate(\n",
    "            k,\n",
    "            exp_results[0][0],\n",
    "            exp_results[0][1],\n",
    "            exp_results[0][2],\n",
    "            exp_results[0][3],\n",
    "            exp_results[0][4],\n",
    "            exp_results[0][5],\n",
    "            exp_results[1][0],\n",
    "            exp_results[1][1],\n",
    "            exp_results[1][2],\n",
    "            exp_results[1][3],\n",
    "            exp_results[1][4],\n",
    "            exp_results[1][5],\n",
    "            exp_results[2][0],\n",
    "            exp_results[2][1],\n",
    "            exp_results[2][2],\n",
    "            exp_results[2][3],\n",
    "            exp_results[2][4],\n",
    "            exp_results[2][5]        \n",
    "        )\n",
    "        \n",
    "        all_results.append(experiment)\n",
    "        break\n",
    "    "
   ]
  },
  {
   "cell_type": "code",
   "execution_count": 2,
   "metadata": {},
   "outputs": [
    {
     "name": "stdout",
     "output_type": "stream",
     "text": [
      "Experiment: video_mae_kinetics_sample_from_32\n"
     ]
    },
    {
     "name": "stderr",
     "output_type": "stream",
     "text": [
      "Some weights of VideoMAEForVideoClassification were not initialized from the model checkpoint at MCG-NJU/videomae-base-finetuned-kinetics and are newly initialized because the shapes did not match:\n",
      "- classifier.bias: found shape torch.Size([400]) in the checkpoint and torch.Size([20]) in the model instantiated\n",
      "- classifier.weight: found shape torch.Size([400, 768]) in the checkpoint and torch.Size([20, 768]) in the model instantiated\n",
      "You should probably TRAIN this model on a down-stream task to be able to use it for predictions and inference.\n",
      "100%|██████████| 292/292 [04:00<00:00,  1.22it/s]\n",
      "100%|██████████| 292/292 [00:45<00:00,  6.46it/s]\n",
      "  0%|          | 0/72 [00:00<?, ?it/s]/home/parraga/miniconda3/envs/libras/lib/python3.10/site-packages/torchvision/io/video.py:161: UserWarning: The pts_unit 'pts' gives wrong results. Please use pts_unit 'sec'.\n",
      "  warnings.warn(\"The pts_unit 'pts' gives wrong results. Please use pts_unit 'sec'.\")\n",
      "100%|██████████| 72/72 [04:09<00:00,  3.47s/it]\n"
     ]
    }
   ],
   "source": [
    "# run every experiment for all the three datasets and get the values of the metrics\n",
    "all_results = {e:[] for e in EXPS.keys()}\n",
    "\n",
    "val_all_frames = load_dataset(\"val\", \"../MINDS_tensors_all_frames\")\n",
    "val_32_frames = load_dataset(\"val\", \"../MINDS_tensors_32\")\n",
    "test_dataset = load_dataset(\"test\")\n",
    "loader_val_all_frames = torch.utils.data.DataLoader(\n",
    "    val_all_frames,\n",
    "    batch_size=1,\n",
    "    shuffle=False,\n",
    "    num_workers=32,\n",
    ")\n",
    "loader_val_32_frames = torch.utils.data.DataLoader(\n",
    "    val_32_frames,\n",
    "    batch_size=1,\n",
    "    shuffle=False,\n",
    "    num_workers=32,\n",
    ")\n",
    "loader_test = torch.utils.data.DataLoader(\n",
    "    test_dataset,\n",
    "    batch_size=1,\n",
    "    shuffle=False,\n",
    "    num_workers=1,\n",
    ")\n",
    "\n",
    "loaders = [loader_val_all_frames, loader_val_32_frames, loader_test]\n",
    "\n",
    "for k,v in EXPS.items():\n",
    "    print(f'Experiment: {k}')\n",
    "    model = load_model(v)\n",
    "    exp_results = []\n",
    "    \n",
    "    with torch.no_grad():        \n",
    "        for loader in loaders:\n",
    "            dataset_results = []\n",
    "            for (video, label, origin, path) in tqdm(loader):\n",
    "                video = video.to(device)\n",
    "                output = model(video)\n",
    "                pred = torch.argmax(output.logits, dim=1)\n",
    "                dataset_results.append(pred.item())\n",
    "            exp_results.append(dataset_results)\n",
    "    all_results[k] = exp_results\n",
    "    break\n",
    "    "
   ]
  },
  {
   "cell_type": "code",
   "execution_count": 52,
   "metadata": {},
   "outputs": [],
   "source": [
    "# Build labels array\n",
    "labels_all_frames = val_all_frames.samples\n",
    "labels_test = test_dataset.df['label'].values\n",
    "dictionary_test = test_dataset.df['dictionary'].values\n",
    "paths_test = test_dataset.df['path'].values"
   ]
  },
  {
   "cell_type": "markdown",
   "metadata": {},
   "source": [
    "# Treat Validation set Results\n",
    "* Output a csv file with metrics for each model in the validation set, considering 32 frames and all frames"
   ]
  },
  {
   "cell_type": "code",
   "execution_count": 32,
   "metadata": {},
   "outputs": [],
   "source": [
    "class ResultAnalyzer():\n",
    "    def __init__(self, true, preds):\n",
    "        self.true = [i[1] for i in true]\n",
    "        self.paths = [i[0] for i in true]\n",
    "        self.preds = preds\n",
    "        self.errors = []\n",
    "    \n",
    "    def compute_metrics(self):\n",
    "        # compute accuracy, f1, precision, recall and confusion matrix\n",
    "        # accuracy = np.mean(np.array(self.true) == np.array(self.preds))\n",
    "        accuracy = accuracy_score(self.true, self.preds)\n",
    "        f1 = f1_score(self.true, self.preds, average='macro')\n",
    "        precision = precision_score(self.true, self.preds, average='macro')\n",
    "        recall = recall_score(self.true, self.preds, average='macro')\n",
    "        cm = confusion_matrix(self.true, self.preds)\n",
    "        \n",
    "        return accuracy, f1, precision, recall, cm\n",
    "    \n",
    "    def get_errors(self):\n",
    "        for i in range(len(self.true)):\n",
    "            if self.true[i] != self.preds[i]:\n",
    "                self.errors.append(self.paths[i])\n",
    "        return self.errors\n"
   ]
  },
  {
   "cell_type": "code",
   "execution_count": 44,
   "metadata": {},
   "outputs": [
    {
     "name": "stdout",
     "output_type": "stream",
     "text": [
      "video_mae_kinetics_sample_from_32 [[0, 0, 0, 0, 0, 0, 0, 0, 0, 0, 0, 0, 0, 0, 0, 1, 1, 1, 1, 1, 1, 1, 1, 1, 1, 1, 1, 18, 1, 2, 2, 2, 2, 2, 2, 2, 2, 2, 2, 2, 2, 2, 2, 3, 3, 3, 3, 3, 3, 3, 3, 3, 3, 3, 3, 3, 3, 4, 4, 4, 4, 4, 4, 4, 4, 6, 4, 4, 4, 4, 4, 4, 5, 5, 5, 5, 5, 5, 5, 5, 5, 5, 5, 5, 5, 5, 5, 6, 6, 6, 6, 6, 6, 6, 6, 6, 6, 6, 6, 6, 6, 6, 7, 7, 7, 7, 7, 7, 7, 7, 7, 7, 7, 7, 7, 7, 8, 8, 8, 8, 8, 8, 8, 8, 8, 8, 8, 8, 8, 8, 8, 8, 9, 9, 9, 9, 9, 9, 9, 9, 9, 9, 9, 9, 9, 9, 10, 10, 10, 10, 10, 10, 10, 10, 10, 10, 10, 10, 10, 10, 11, 11, 11, 11, 11, 11, 11, 11, 11, 11, 11, 11, 11, 11, 11, 12, 12, 12, 12, 12, 12, 12, 12, 12, 12, 12, 12, 12, 12, 13, 13, 13, 13, 13, 13, 13, 13, 13, 13, 13, 13, 13, 13, 14, 14, 14, 14, 14, 14, 14, 14, 14, 14, 14, 14, 14, 14, 14, 15, 15, 15, 15, 15, 15, 15, 15, 15, 15, 15, 15, 15, 15, 16, 16, 16, 16, 16, 16, 16, 16, 16, 16, 16, 16, 16, 16, 16, 17, 17, 17, 17, 17, 17, 17, 17, 17, 17, 17, 17, 17, 17, 17, 18, 18, 18, 18, 18, 18, 18, 18, 18, 18, 18, 18, 18, 18, 18, 19, 19, 19, 19, 19, 19, 19, 19, 19, 19, 19, 19, 19, 19, 19], [0, 0, 0, 0, 0, 0, 0, 0, 0, 0, 0, 0, 0, 0, 0, 1, 1, 1, 1, 1, 1, 1, 1, 1, 1, 1, 1, 1, 1, 2, 2, 2, 2, 2, 2, 2, 2, 2, 2, 2, 2, 2, 2, 3, 3, 3, 3, 3, 3, 3, 3, 3, 3, 3, 3, 3, 3, 4, 4, 4, 4, 4, 4, 4, 4, 4, 4, 4, 4, 4, 4, 4, 5, 5, 5, 5, 5, 5, 5, 5, 5, 5, 5, 5, 5, 5, 5, 6, 6, 6, 6, 6, 6, 6, 6, 6, 6, 6, 6, 6, 6, 6, 7, 7, 7, 7, 7, 7, 7, 7, 7, 7, 7, 7, 7, 7, 8, 8, 8, 8, 8, 8, 8, 8, 8, 8, 8, 8, 8, 8, 8, 8, 9, 9, 9, 9, 9, 9, 9, 9, 9, 9, 9, 9, 9, 9, 10, 10, 10, 10, 10, 10, 10, 10, 10, 10, 10, 10, 10, 10, 11, 11, 11, 11, 11, 11, 11, 11, 11, 11, 11, 11, 11, 11, 11, 12, 12, 12, 12, 12, 12, 12, 12, 12, 12, 12, 12, 12, 12, 13, 13, 13, 13, 13, 13, 13, 13, 13, 13, 13, 13, 13, 13, 14, 14, 14, 14, 14, 14, 14, 14, 14, 14, 14, 14, 14, 14, 14, 15, 15, 15, 15, 15, 15, 15, 15, 15, 15, 15, 15, 15, 15, 16, 16, 16, 16, 16, 16, 16, 16, 16, 16, 16, 16, 16, 16, 16, 17, 17, 17, 17, 17, 17, 17, 17, 17, 17, 17, 17, 17, 17, 17, 18, 18, 18, 18, 18, 18, 18, 18, 18, 18, 18, 18, 18, 18, 18, 19, 19, 19, 19, 19, 19, 19, 19, 19, 19, 19, 19, 19, 19, 19], [0, 0, 1, 7, 7, 2, 2, 2, 3, 3, 3, 3, 3, 3, 3, 5, 5, 5, 5, 5, 5, 5, 5, 18, 7, 7, 18, 7, 7, 17, 17, 7, 7, 7, 9, 0, 0, 9, 0, 2, 2, 14, 9, 9, 5, 10, 5, 0, 10, 7, 10, 11, 0, 0, 0, 7, 0, 0, 14, 14, 14, 14, 0, 14, 13, 15, 15, 15, 15, 7, 7, 16]]\n"
     ]
    }
   ],
   "source": [
    "# save the ra for each model in a dictionary {{model_name: , acc_32: , f1_32: , precision_32: , recall_32: , cm_32: , errors_32: , acc_all: , f1_all: , precision_all: , recall_all: , cm_all: , errors_all: }}\n",
    "final_csv = {}\n",
    "for k,v in all_results.items():\n",
    "    print(k,v)\n",
    "    ra_32 = ResultAnalyzer(labels_all_frames, v[0])\n",
    "    ra_all = ResultAnalyzer(labels_all_frames, v[1])\n",
    "    \n",
    "    acc_32, f1_32, precision_32, recall_32, cm_32 = ra_32.compute_metrics()\n",
    "    acc_all, f1_all, precision_all, recall_all, cm_all = ra_all.compute_metrics()\n",
    "    errors_32 = ra_32.get_errors()\n",
    "    errors_all = ra_all.get_errors()\n",
    "    \n",
    "    final_csv[k] = {\n",
    "        'model_name': k,\n",
    "        'acc_32': acc_32,\n",
    "        'f1_32': f1_32,\n",
    "        'precision_32': precision_32,\n",
    "        'recall_32': recall_32,\n",
    "        'cm_32': cm_32,\n",
    "        'errors_32': errors_32,\n",
    "        'acc_all': acc_all,\n",
    "        'f1_all': f1_all,\n",
    "        'precision_all': precision_all,\n",
    "        'recall_all': recall_all,\n",
    "        'cm_all': cm_all,\n",
    "        'errors_all': errors_all,\n",
    "    }\n",
    "    \n",
    "# save dataframe to csv\n",
    "df = pd.DataFrame.from_dict(final_csv, orient='index')\n",
    "df.to_csv('results.csv')"
   ]
  },
  {
   "cell_type": "markdown",
   "metadata": {},
   "source": [
    "# Treat Test set Results\n",
    "* Output a csv file, considering each video and how each model predicted it"
   ]
  },
  {
   "cell_type": "code",
   "execution_count": 53,
   "metadata": {},
   "outputs": [],
   "source": [
    "# transform labels to Minds labels\n",
    "true_test = [t.split('_')[0] for t in labels_test]\n",
    "# remove accents from labels\n",
    "true_test = [t.replace('á', 'a').replace('ã', 'a').replace('é', 'e').replace('í', 'i').replace('ó', 'o').replace('ú', 'u').replace('ç', 'c') for t in true_test]\n",
    "\n",
    "true_test = [val_all_frames.class_to_idx[t] for t in true_test]\n",
    "\n",
    "true_test = [(path, t) for path, t in zip(paths_test, true_test)]"
   ]
  },
  {
   "cell_type": "code",
   "execution_count": 55,
   "metadata": {},
   "outputs": [
    {
     "name": "stdout",
     "output_type": "stream",
     "text": [
      "video_mae_kinetics_sample_from_32 [[0, 0, 0, 0, 0, 0, 0, 0, 0, 0, 0, 0, 0, 0, 0, 1, 1, 1, 1, 1, 1, 1, 1, 1, 1, 1, 1, 18, 1, 2, 2, 2, 2, 2, 2, 2, 2, 2, 2, 2, 2, 2, 2, 3, 3, 3, 3, 3, 3, 3, 3, 3, 3, 3, 3, 3, 3, 4, 4, 4, 4, 4, 4, 4, 4, 6, 4, 4, 4, 4, 4, 4, 5, 5, 5, 5, 5, 5, 5, 5, 5, 5, 5, 5, 5, 5, 5, 6, 6, 6, 6, 6, 6, 6, 6, 6, 6, 6, 6, 6, 6, 6, 7, 7, 7, 7, 7, 7, 7, 7, 7, 7, 7, 7, 7, 7, 8, 8, 8, 8, 8, 8, 8, 8, 8, 8, 8, 8, 8, 8, 8, 8, 9, 9, 9, 9, 9, 9, 9, 9, 9, 9, 9, 9, 9, 9, 10, 10, 10, 10, 10, 10, 10, 10, 10, 10, 10, 10, 10, 10, 11, 11, 11, 11, 11, 11, 11, 11, 11, 11, 11, 11, 11, 11, 11, 12, 12, 12, 12, 12, 12, 12, 12, 12, 12, 12, 12, 12, 12, 13, 13, 13, 13, 13, 13, 13, 13, 13, 13, 13, 13, 13, 13, 14, 14, 14, 14, 14, 14, 14, 14, 14, 14, 14, 14, 14, 14, 14, 15, 15, 15, 15, 15, 15, 15, 15, 15, 15, 15, 15, 15, 15, 16, 16, 16, 16, 16, 16, 16, 16, 16, 16, 16, 16, 16, 16, 16, 17, 17, 17, 17, 17, 17, 17, 17, 17, 17, 17, 17, 17, 17, 17, 18, 18, 18, 18, 18, 18, 18, 18, 18, 18, 18, 18, 18, 18, 18, 19, 19, 19, 19, 19, 19, 19, 19, 19, 19, 19, 19, 19, 19, 19], [0, 0, 0, 0, 0, 0, 0, 0, 0, 0, 0, 0, 0, 0, 0, 1, 1, 1, 1, 1, 1, 1, 1, 1, 1, 1, 1, 1, 1, 2, 2, 2, 2, 2, 2, 2, 2, 2, 2, 2, 2, 2, 2, 3, 3, 3, 3, 3, 3, 3, 3, 3, 3, 3, 3, 3, 3, 4, 4, 4, 4, 4, 4, 4, 4, 4, 4, 4, 4, 4, 4, 4, 5, 5, 5, 5, 5, 5, 5, 5, 5, 5, 5, 5, 5, 5, 5, 6, 6, 6, 6, 6, 6, 6, 6, 6, 6, 6, 6, 6, 6, 6, 7, 7, 7, 7, 7, 7, 7, 7, 7, 7, 7, 7, 7, 7, 8, 8, 8, 8, 8, 8, 8, 8, 8, 8, 8, 8, 8, 8, 8, 8, 9, 9, 9, 9, 9, 9, 9, 9, 9, 9, 9, 9, 9, 9, 10, 10, 10, 10, 10, 10, 10, 10, 10, 10, 10, 10, 10, 10, 11, 11, 11, 11, 11, 11, 11, 11, 11, 11, 11, 11, 11, 11, 11, 12, 12, 12, 12, 12, 12, 12, 12, 12, 12, 12, 12, 12, 12, 13, 13, 13, 13, 13, 13, 13, 13, 13, 13, 13, 13, 13, 13, 14, 14, 14, 14, 14, 14, 14, 14, 14, 14, 14, 14, 14, 14, 14, 15, 15, 15, 15, 15, 15, 15, 15, 15, 15, 15, 15, 15, 15, 16, 16, 16, 16, 16, 16, 16, 16, 16, 16, 16, 16, 16, 16, 16, 17, 17, 17, 17, 17, 17, 17, 17, 17, 17, 17, 17, 17, 17, 17, 18, 18, 18, 18, 18, 18, 18, 18, 18, 18, 18, 18, 18, 18, 18, 19, 19, 19, 19, 19, 19, 19, 19, 19, 19, 19, 19, 19, 19, 19], [0, 0, 1, 7, 7, 2, 2, 2, 3, 3, 3, 3, 3, 3, 3, 5, 5, 5, 5, 5, 5, 5, 5, 18, 7, 7, 18, 7, 7, 17, 17, 7, 7, 7, 9, 0, 0, 9, 0, 2, 2, 14, 9, 9, 5, 10, 5, 0, 10, 7, 10, 11, 0, 0, 0, 7, 0, 0, 14, 14, 14, 14, 0, 14, 13, 15, 15, 15, 15, 7, 7, 16]]\n"
     ]
    },
    {
     "name": "stderr",
     "output_type": "stream",
     "text": [
      "/home/parraga/miniconda3/envs/libras/lib/python3.10/site-packages/sklearn/metrics/_classification.py:1344: UndefinedMetricWarning: Precision is ill-defined and being set to 0.0 in labels with no predicted samples. Use `zero_division` parameter to control this behavior.\n",
      "  _warn_prf(average, modifier, msg_start, len(result))\n",
      "/home/parraga/miniconda3/envs/libras/lib/python3.10/site-packages/sklearn/metrics/_classification.py:1344: UndefinedMetricWarning: Recall is ill-defined and being set to 0.0 in labels with no true samples. Use `zero_division` parameter to control this behavior.\n",
      "  _warn_prf(average, modifier, msg_start, len(result))\n"
     ]
    }
   ],
   "source": [
    "for k,v in all_results.items():\n",
    "    print(k,v)\n",
    "    ra_test = ResultAnalyzer(true_test, v[2])\n",
    "    \n",
    "    acc, f1, precision, recall, cm = ra_test.compute_metrics()\n",
    "    errors = ra_test.get_errors()\n",
    "    \n",
    "    final_csv[k] = {\n",
    "        'model_name': k,\n",
    "        'acc': acc,\n",
    "        'f1': f1,\n",
    "        'precision_32': precision,\n",
    "        'recall_32': recall,\n",
    "        'cm_32': cm,\n",
    "        'errors_32': errors,\n",
    "    }\n",
    "    break\n",
    "\n",
    "# save dataframe to csv\n",
    "df = pd.DataFrame.from_dict(final_csv, orient='index')\n",
    "df.to_csv('results_test.csv')"
   ]
  },
  {
   "cell_type": "code",
   "execution_count": 62,
   "metadata": {},
   "outputs": [],
   "source": [
    "# save a column for each model prediction in original test dataframe\n",
    "for k,v in all_results.items():\n",
    "    test_dataset.df[k] = v[2]\n",
    "    break\n",
    "\n",
    "test_dataset.df.to_csv('test_results_model_by_column.csv')"
   ]
  },
  {
   "cell_type": "code",
   "execution_count": 8,
   "metadata": {},
   "outputs": [
    {
     "data": {
      "image/png": "[encoded data removed]",
      "text/plain": [
       "<Figure size 1000x700 with 2 Axes>"
      ]
     },
     "metadata": {},
     "output_type": "display_data"
    }
   ],
   "source": [
    "from matplotlib import pyplot as plt\n",
    "import seaborn as sns\n",
    "import pandas as pd\n",
    "\n",
    "df_cm = pd.DataFrame(confusion_matrix.numpy(), index = [i for i in range(20)],\n",
    "                    columns = [i for i in range(20)])\n",
    "plt.figure(figsize = (10,7))\n",
    "sns.heatmap(df_cm, annot=True)\n",
    "plt.show()"
   ]
  },
  {
   "cell_type": "code",
   "execution_count": 28,
   "metadata": {},
   "outputs": [],
   "source": [
    "test_dataset = TestDatasets(\n",
    "    './dataset_intersections/common_labels.csv',\n",
    "    transforms=build_transforms(['normalize'],\n",
    "                                resize_dims=(224, 224),\n",
    "                                random_sample=False),\n",
    "    )"
   ]
  },
  {
   "cell_type": "code",
   "execution_count": 34,
   "metadata": {},
   "outputs": [
    {
     "name": "stderr",
     "output_type": "stream",
     "text": [
      "  0%|          | 0/72 [00:00<?, ?it/s]"
     ]
    },
    {
     "name": "stderr",
     "output_type": "stream",
     "text": [
      "/home/parraga/miniconda3/envs/libras/lib/python3.10/site-packages/torchvision/io/video.py:161: UserWarning: The pts_unit 'pts' gives wrong results. Please use pts_unit 'sec'.\n",
      "  warnings.warn(\"The pts_unit 'pts' gives wrong results. Please use pts_unit 'sec'.\")\n",
      "  6%|▌         | 4/72 [01:49<30:56, 27.30s/it]\n"
     ]
    },
    {
     "ename": "KeyboardInterrupt",
     "evalue": "",
     "output_type": "error",
     "traceback": [
      "\u001b[0;31m---------------------------------------------------------------------------\u001b[0m",
      "\u001b[0;31mKeyboardInterrupt\u001b[0m                         Traceback (most recent call last)",
      "Cell \u001b[0;32mIn[34], line 4\u001b[0m\n\u001b[1;32m      1\u001b[0m results_test_dataset \u001b[38;5;241m=\u001b[39m Results()\n\u001b[1;32m      2\u001b[0m test_loader \u001b[38;5;241m=\u001b[39m torch\u001b[38;5;241m.\u001b[39mutils\u001b[38;5;241m.\u001b[39mdata\u001b[38;5;241m.\u001b[39mDataLoader(test_dataset, batch_size\u001b[38;5;241m=\u001b[39m\u001b[38;5;241m1\u001b[39m, shuffle\u001b[38;5;241m=\u001b[39m\u001b[38;5;28;01mFalse\u001b[39;00m)\n\u001b[0;32m----> 4\u001b[0m \u001b[38;5;28;01mfor\u001b[39;00m i, (video, label, origin, path) \u001b[38;5;129;01min\u001b[39;00m tqdm(\u001b[38;5;28menumerate\u001b[39m(test_loader), total\u001b[38;5;241m=\u001b[39m\u001b[38;5;28mlen\u001b[39m(test_dataset)):\n\u001b[1;32m      5\u001b[0m     \u001b[38;5;28;01mwith\u001b[39;00m torch\u001b[38;5;241m.\u001b[39mno_grad():\n\u001b[1;32m      6\u001b[0m         video \u001b[38;5;241m=\u001b[39m video\u001b[38;5;241m.\u001b[39mto(device)\n",
      "File \u001b[0;32m~/miniconda3/envs/libras/lib/python3.10/site-packages/tqdm/std.py:1195\u001b[0m, in \u001b[0;36mtqdm.__iter__\u001b[0;34m(self)\u001b[0m\n\u001b[1;32m   1192\u001b[0m time \u001b[38;5;241m=\u001b[39m \u001b[38;5;28mself\u001b[39m\u001b[38;5;241m.\u001b[39m_time\n\u001b[1;32m   1194\u001b[0m \u001b[38;5;28;01mtry\u001b[39;00m:\n\u001b[0;32m-> 1195\u001b[0m     \u001b[38;5;28;01mfor\u001b[39;00m obj \u001b[38;5;129;01min\u001b[39;00m iterable:\n\u001b[1;32m   1196\u001b[0m         \u001b[38;5;28;01myield\u001b[39;00m obj\n\u001b[1;32m   1197\u001b[0m         \u001b[38;5;66;03m# Update and possibly print the progressbar.\u001b[39;00m\n\u001b[1;32m   1198\u001b[0m         \u001b[38;5;66;03m# Note: does not call self.update(1) for speed optimisation.\u001b[39;00m\n",
      "File \u001b[0;32m~/miniconda3/envs/libras/lib/python3.10/site-packages/torch/utils/data/dataloader.py:634\u001b[0m, in \u001b[0;36m_BaseDataLoaderIter.__next__\u001b[0;34m(self)\u001b[0m\n\u001b[1;32m    631\u001b[0m \u001b[38;5;28;01mif\u001b[39;00m \u001b[38;5;28mself\u001b[39m\u001b[38;5;241m.\u001b[39m_sampler_iter \u001b[38;5;129;01mis\u001b[39;00m \u001b[38;5;28;01mNone\u001b[39;00m:\n\u001b[1;32m    632\u001b[0m     \u001b[38;5;66;03m# TODO(https://github.com/pytorch/pytorch/issues/76750)\u001b[39;00m\n\u001b[1;32m    633\u001b[0m     \u001b[38;5;28mself\u001b[39m\u001b[38;5;241m.\u001b[39m_reset()  \u001b[38;5;66;03m# type: ignore[call-arg]\u001b[39;00m\n\u001b[0;32m--> 634\u001b[0m data \u001b[38;5;241m=\u001b[39m \u001b[38;5;28;43mself\u001b[39;49m\u001b[38;5;241;43m.\u001b[39;49m\u001b[43m_next_data\u001b[49m\u001b[43m(\u001b[49m\u001b[43m)\u001b[49m\n\u001b[1;32m    635\u001b[0m \u001b[38;5;28mself\u001b[39m\u001b[38;5;241m.\u001b[39m_num_yielded \u001b[38;5;241m+\u001b[39m\u001b[38;5;241m=\u001b[39m \u001b[38;5;241m1\u001b[39m\n\u001b[1;32m    636\u001b[0m \u001b[38;5;28;01mif\u001b[39;00m \u001b[38;5;28mself\u001b[39m\u001b[38;5;241m.\u001b[39m_dataset_kind \u001b[38;5;241m==\u001b[39m _DatasetKind\u001b[38;5;241m.\u001b[39mIterable \u001b[38;5;129;01mand\u001b[39;00m \\\n\u001b[1;32m    637\u001b[0m         \u001b[38;5;28mself\u001b[39m\u001b[38;5;241m.\u001b[39m_IterableDataset_len_called \u001b[38;5;129;01mis\u001b[39;00m \u001b[38;5;129;01mnot\u001b[39;00m \u001b[38;5;28;01mNone\u001b[39;00m \u001b[38;5;129;01mand\u001b[39;00m \\\n\u001b[1;32m    638\u001b[0m         \u001b[38;5;28mself\u001b[39m\u001b[38;5;241m.\u001b[39m_num_yielded \u001b[38;5;241m>\u001b[39m \u001b[38;5;28mself\u001b[39m\u001b[38;5;241m.\u001b[39m_IterableDataset_len_called:\n",
      "File \u001b[0;32m~/miniconda3/envs/libras/lib/python3.10/site-packages/torch/utils/data/dataloader.py:678\u001b[0m, in \u001b[0;36m_SingleProcessDataLoaderIter._next_data\u001b[0;34m(self)\u001b[0m\n\u001b[1;32m    676\u001b[0m \u001b[38;5;28;01mdef\u001b[39;00m \u001b[38;5;21m_next_data\u001b[39m(\u001b[38;5;28mself\u001b[39m):\n\u001b[1;32m    677\u001b[0m     index \u001b[38;5;241m=\u001b[39m \u001b[38;5;28mself\u001b[39m\u001b[38;5;241m.\u001b[39m_next_index()  \u001b[38;5;66;03m# may raise StopIteration\u001b[39;00m\n\u001b[0;32m--> 678\u001b[0m     data \u001b[38;5;241m=\u001b[39m \u001b[38;5;28;43mself\u001b[39;49m\u001b[38;5;241;43m.\u001b[39;49m\u001b[43m_dataset_fetcher\u001b[49m\u001b[38;5;241;43m.\u001b[39;49m\u001b[43mfetch\u001b[49m\u001b[43m(\u001b[49m\u001b[43mindex\u001b[49m\u001b[43m)\u001b[49m  \u001b[38;5;66;03m# may raise StopIteration\u001b[39;00m\n\u001b[1;32m    679\u001b[0m     \u001b[38;5;28;01mif\u001b[39;00m \u001b[38;5;28mself\u001b[39m\u001b[38;5;241m.\u001b[39m_pin_memory:\n\u001b[1;32m    680\u001b[0m         data \u001b[38;5;241m=\u001b[39m _utils\u001b[38;5;241m.\u001b[39mpin_memory\u001b[38;5;241m.\u001b[39mpin_memory(data, \u001b[38;5;28mself\u001b[39m\u001b[38;5;241m.\u001b[39m_pin_memory_device)\n",
      "File \u001b[0;32m~/miniconda3/envs/libras/lib/python3.10/site-packages/torch/utils/data/_utils/fetch.py:51\u001b[0m, in \u001b[0;36m_MapDatasetFetcher.fetch\u001b[0;34m(self, possibly_batched_index)\u001b[0m\n\u001b[1;32m     49\u001b[0m         data \u001b[38;5;241m=\u001b[39m \u001b[38;5;28mself\u001b[39m\u001b[38;5;241m.\u001b[39mdataset\u001b[38;5;241m.\u001b[39m__getitems__(possibly_batched_index)\n\u001b[1;32m     50\u001b[0m     \u001b[38;5;28;01melse\u001b[39;00m:\n\u001b[0;32m---> 51\u001b[0m         data \u001b[38;5;241m=\u001b[39m [\u001b[38;5;28mself\u001b[39m\u001b[38;5;241m.\u001b[39mdataset[idx] \u001b[38;5;28;01mfor\u001b[39;00m idx \u001b[38;5;129;01min\u001b[39;00m possibly_batched_index]\n\u001b[1;32m     52\u001b[0m \u001b[38;5;28;01melse\u001b[39;00m:\n\u001b[1;32m     53\u001b[0m     data \u001b[38;5;241m=\u001b[39m \u001b[38;5;28mself\u001b[39m\u001b[38;5;241m.\u001b[39mdataset[possibly_batched_index]\n",
      "File \u001b[0;32m~/miniconda3/envs/libras/lib/python3.10/site-packages/torch/utils/data/_utils/fetch.py:51\u001b[0m, in \u001b[0;36m<listcomp>\u001b[0;34m(.0)\u001b[0m\n\u001b[1;32m     49\u001b[0m         data \u001b[38;5;241m=\u001b[39m \u001b[38;5;28mself\u001b[39m\u001b[38;5;241m.\u001b[39mdataset\u001b[38;5;241m.\u001b[39m__getitems__(possibly_batched_index)\n\u001b[1;32m     50\u001b[0m     \u001b[38;5;28;01melse\u001b[39;00m:\n\u001b[0;32m---> 51\u001b[0m         data \u001b[38;5;241m=\u001b[39m [\u001b[38;5;28;43mself\u001b[39;49m\u001b[38;5;241;43m.\u001b[39;49m\u001b[43mdataset\u001b[49m\u001b[43m[\u001b[49m\u001b[43midx\u001b[49m\u001b[43m]\u001b[49m \u001b[38;5;28;01mfor\u001b[39;00m idx \u001b[38;5;129;01min\u001b[39;00m possibly_batched_index]\n\u001b[1;32m     52\u001b[0m \u001b[38;5;28;01melse\u001b[39;00m:\n\u001b[1;32m     53\u001b[0m     data \u001b[38;5;241m=\u001b[39m \u001b[38;5;28mself\u001b[39m\u001b[38;5;241m.\u001b[39mdataset[possibly_batched_index]\n",
      "File \u001b[0;32m/mnt/E-SSD/BRACIS-2024/dataset.py:143\u001b[0m, in \u001b[0;36mTestDatasets.__getitem__\u001b[0;34m(self, idx)\u001b[0m\n\u001b[1;32m    141\u001b[0m row \u001b[38;5;241m=\u001b[39m \u001b[38;5;28mself\u001b[39m\u001b[38;5;241m.\u001b[39mdf\u001b[38;5;241m.\u001b[39miloc[idx]\n\u001b[1;32m    142\u001b[0m \u001b[38;5;28;01mif\u001b[39;00m \u001b[38;5;124m'\u001b[39m\u001b[38;5;124m[\u001b[39m\u001b[38;5;124m'\u001b[39m \u001b[38;5;129;01min\u001b[39;00m row[\u001b[38;5;124m'\u001b[39m\u001b[38;5;124mpath\u001b[39m\u001b[38;5;124m'\u001b[39m]:\n\u001b[0;32m--> 143\u001b[0m     video \u001b[38;5;241m=\u001b[39m \u001b[43mread_video\u001b[49m\u001b[43m(\u001b[49m\u001b[43mrow\u001b[49m\u001b[43m[\u001b[49m\u001b[38;5;124;43m'\u001b[39;49m\u001b[38;5;124;43mpath\u001b[39;49m\u001b[38;5;124;43m'\u001b[39;49m\u001b[43m]\u001b[49m\u001b[43m[\u001b[49m\u001b[38;5;241;43m2\u001b[39;49m\u001b[43m:\u001b[49m\u001b[38;5;241;43m-\u001b[39;49m\u001b[38;5;241;43m2\u001b[39;49m\u001b[43m]\u001b[49m\u001b[43m)\u001b[49m[\u001b[38;5;241m0\u001b[39m]\n\u001b[1;32m    144\u001b[0m \u001b[38;5;28;01melse\u001b[39;00m:\n\u001b[1;32m    145\u001b[0m     video \u001b[38;5;241m=\u001b[39m read_video(row[\u001b[38;5;124m'\u001b[39m\u001b[38;5;124mpath\u001b[39m\u001b[38;5;124m'\u001b[39m])[\u001b[38;5;241m0\u001b[39m]\n",
      "File \u001b[0;32m~/miniconda3/envs/libras/lib/python3.10/site-packages/torchvision/io/video.py:328\u001b[0m, in \u001b[0;36mread_video\u001b[0;34m(filename, start_pts, end_pts, pts_unit, output_format)\u001b[0m\n\u001b[1;32m    325\u001b[0m aframes_list \u001b[38;5;241m=\u001b[39m [frame\u001b[38;5;241m.\u001b[39mto_ndarray() \u001b[38;5;28;01mfor\u001b[39;00m frame \u001b[38;5;129;01min\u001b[39;00m audio_frames]\n\u001b[1;32m    327\u001b[0m \u001b[38;5;28;01mif\u001b[39;00m vframes_list:\n\u001b[0;32m--> 328\u001b[0m     vframes \u001b[38;5;241m=\u001b[39m torch\u001b[38;5;241m.\u001b[39mas_tensor(\u001b[43mnp\u001b[49m\u001b[38;5;241;43m.\u001b[39;49m\u001b[43mstack\u001b[49m\u001b[43m(\u001b[49m\u001b[43mvframes_list\u001b[49m\u001b[43m)\u001b[49m)\n\u001b[1;32m    329\u001b[0m \u001b[38;5;28;01melse\u001b[39;00m:\n\u001b[1;32m    330\u001b[0m     vframes \u001b[38;5;241m=\u001b[39m torch\u001b[38;5;241m.\u001b[39mempty((\u001b[38;5;241m0\u001b[39m, \u001b[38;5;241m1\u001b[39m, \u001b[38;5;241m1\u001b[39m, \u001b[38;5;241m3\u001b[39m), dtype\u001b[38;5;241m=\u001b[39mtorch\u001b[38;5;241m.\u001b[39muint8)\n",
      "File \u001b[0;32m<__array_function__ internals>:180\u001b[0m, in \u001b[0;36mstack\u001b[0;34m(*args, **kwargs)\u001b[0m\n",
      "File \u001b[0;32m~/miniconda3/envs/libras/lib/python3.10/site-packages/numpy/core/shape_base.py:433\u001b[0m, in \u001b[0;36mstack\u001b[0;34m(arrays, axis, out)\u001b[0m\n\u001b[1;32m    431\u001b[0m sl \u001b[38;5;241m=\u001b[39m (\u001b[38;5;28mslice\u001b[39m(\u001b[38;5;28;01mNone\u001b[39;00m),) \u001b[38;5;241m*\u001b[39m axis \u001b[38;5;241m+\u001b[39m (_nx\u001b[38;5;241m.\u001b[39mnewaxis,)\n\u001b[1;32m    432\u001b[0m expanded_arrays \u001b[38;5;241m=\u001b[39m [arr[sl] \u001b[38;5;28;01mfor\u001b[39;00m arr \u001b[38;5;129;01min\u001b[39;00m arrays]\n\u001b[0;32m--> 433\u001b[0m \u001b[38;5;28;01mreturn\u001b[39;00m \u001b[43m_nx\u001b[49m\u001b[38;5;241;43m.\u001b[39;49m\u001b[43mconcatenate\u001b[49m\u001b[43m(\u001b[49m\u001b[43mexpanded_arrays\u001b[49m\u001b[43m,\u001b[49m\u001b[43m \u001b[49m\u001b[43maxis\u001b[49m\u001b[38;5;241;43m=\u001b[39;49m\u001b[43maxis\u001b[49m\u001b[43m,\u001b[49m\u001b[43m \u001b[49m\u001b[43mout\u001b[49m\u001b[38;5;241;43m=\u001b[39;49m\u001b[43mout\u001b[49m\u001b[43m)\u001b[49m\n",
      "File \u001b[0;32m<__array_function__ internals>:180\u001b[0m, in \u001b[0;36mconcatenate\u001b[0;34m(*args, **kwargs)\u001b[0m\n",
      "\u001b[0;31mKeyboardInterrupt\u001b[0m: "
     ]
    }
   ],
   "source": [
    "results_test_dataset = Results()\n",
    "test_loader = torch.utils.data.DataLoader(test_dataset, batch_size=1, shuffle=False)\n",
    "\n",
    "for i, (video, label, origin, path) in tqdm(enumerate(test_loader), total=len(test_dataset)):\n",
    "    with torch.no_grad():\n",
    "        video = video.to(device)\n",
    "        output = model(video)\n",
    "        pred = torch.argmax(output.logits, dim=1)\n",
    "        label = label[0].split('_')[0]\n",
    "        label = label.replace('á', 'a').replace('ã', 'a').replace('é', 'e').replace('í', 'i').replace('ó', 'o').replace('ú', 'u').replace('ç', 'c')\n",
    "        label = val_dataset.class_to_idx[label]\n",
    "        label = torch.tensor([label])\n",
    "        label = label.to(device)\n",
    "        results_test_dataset(label, pred)"
   ]
  },
  {
   "cell_type": "code",
   "execution_count": 35,
   "metadata": {},
   "outputs": [
    {
     "name": "stdout",
     "output_type": "stream",
     "text": [
      "Accuracy: 0.75\n",
      "F1: 0.75\n",
      "Precision: 0.75\n",
      "Recall: 0.75\n"
     ]
    }
   ],
   "source": [
    "print(f'Accuracy: {results_test_dataset.accuracy.compute()}')\n",
    "print(f'F1: {results_test_dataset.f1.compute()}')\n",
    "print(f'Precision: {results_test_dataset.precision.compute()}')\n",
    "print(f'Recall: {results_test_dataset.recall.compute()}')"
   ]
  },
  {
   "cell_type": "code",
   "execution_count": 42,
   "metadata": {},
   "outputs": [],
   "source": [
    "# transform labels to Minds labels\n",
    "true_test = [t[0].split('_')[0] for t in true_test]\n",
    "# remove accents from labels\n",
    "true_test = [t.replace('á', 'a').replace('ã', 'a').replace('é', 'e').replace('í', 'i').replace('ó', 'o').replace('ú', 'u').replace('ç', 'c') for t in true_test]\n",
    "\n",
    "true_test = [val_dataset.class_to_idx[t] for t in true_test]\n",
    "\n",
    "# [val_dataset.class_to_idx[t[0].split('_')[0]] for t in true_test]"
   ]
  },
  {
   "cell_type": "code",
   "execution_count": 43,
   "metadata": {},
   "outputs": [],
   "source": [
    "accuracy = sum([1 for i, j in zip(preds_test, true_test) if i == j]) / len(true_test)\n",
    "\n",
    "confusion_matrix = torch.zeros(20, 20)\n",
    "for t, p in zip(true_test, preds_test):\n",
    "    confusion_matrix[t, p] += 1\n",
    "    \n",
    "precision = confusion_matrix.diag() / confusion_matrix.sum(1)\n",
    "recall = confusion_matrix.diag() / confusion_matrix.sum(0)\n",
    "f1 = 2 * precision * recall / (precision + recall)"
   ]
  },
  {
   "cell_type": "code",
   "execution_count": 44,
   "metadata": {},
   "outputs": [
    {
     "name": "stdout",
     "output_type": "stream",
     "text": [
      "Accuracy: 0.4246575342465753\n",
      "F1: nan\n",
      "Precision: nan\n",
      "Recall: nan\n"
     ]
    }
   ],
   "source": [
    "print(f'Accuracy: {accuracy}')\n",
    "print(f'F1: {f1.mean()}')\n",
    "print(f'Precision: {precision.mean()}')\n",
    "print(f'Recall: {recall.mean()}')\n"
   ]
  },
  {
   "cell_type": "code",
   "execution_count": 45,
   "metadata": {},
   "outputs": [
    {
     "data": {
      "image/png": "[encoded data removed]",
      "text/plain": [
       "<Figure size 1000x700 with 2 Axes>"
      ]
     },
     "metadata": {},
     "output_type": "display_data"
    }
   ],
   "source": [
    "from matplotlib import pyplot as plt\n",
    "import seaborn as sns\n",
    "import pandas as pd\n",
    "\n",
    "df_cm = pd.DataFrame(confusion_matrix.numpy(), index = [i for i in range(20)],\n",
    "                    columns = [i for i in range(20)])\n",
    "plt.figure(figsize = (10,7))\n",
    "sns.heatmap(df_cm, annot=True)\n",
    "plt.show()"
   ]
  }
 ],
 "metadata": {
  "kernelspec": {
   "display_name": "libras",
   "language": "python",
   "name": "python3"
  },
  "language_info": {
   "codemirror_mode": {
    "name": "ipython",
    "version": 3
   },
   "file_extension": ".py",
   "mimetype": "text/x-python",
   "name": "python",
   "nbconvert_exporter": "python",
   "pygments_lexer": "ipython3",
   "version": "3.10.12"
  }
 },
 "nbformat": 4,
 "nbformat_minor": 2
}
